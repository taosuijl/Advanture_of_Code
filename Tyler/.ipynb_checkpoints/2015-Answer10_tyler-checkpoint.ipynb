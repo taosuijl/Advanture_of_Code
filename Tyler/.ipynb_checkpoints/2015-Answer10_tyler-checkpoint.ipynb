{
 "cells": [
  {
   "cell_type": "code",
   "execution_count": 40,
   "metadata": {},
   "outputs": [],
   "source": [
    "# split [3, 1, 1, 3, 3, 2, 2, 1, 1, 3] to 2D list [[3], [1, 1], [3, 3], [2, 2], [1, 1], [3]]\n",
    "\n",
    "def split_num_lst(number_lst):\n",
    "    after_split = []\n",
    "    sub_lst = []\n",
    "    new_n = None\n",
    "    for n in number_lst:\n",
    "        if new_n == None:\n",
    "            new_n = n\n",
    "            sub_lst.append(n)\n",
    "        elif n == new_n:\n",
    "            sub_lst.append(n)\n",
    "        else:\n",
    "            after_split.append(sub_lst)\n",
    "            new_n = n\n",
    "            sub_lst = [n]\n",
    "    \n",
    "    after_split.append(sub_lst)\n",
    "    \n",
    "    return after_split"
   ]
  },
  {
   "cell_type": "code",
   "execution_count": 41,
   "metadata": {},
   "outputs": [],
   "source": [
    "#generate new list [1, 3, 2, 1, 2, 3, 2, 2, 2, 1, 1, 3] from [[3], [1, 1], [3, 3], [2, 2], [1, 1], [3]]\n",
    "\n",
    "def gen_new_num_lst(splited_lst):\n",
    "    new_lst = []\n",
    "    for l in splited_lst:\n",
    "        new_lst.append(len(l))\n",
    "        new_lst.append(l[0])\n",
    "    return new_lst"
   ]
  },
  {
   "cell_type": "code",
   "execution_count": 42,
   "metadata": {},
   "outputs": [],
   "source": [
    "puzzel = 3113322113\n",
    "\n",
    "p_lst = [num for num in str(puzzel)]\n",
    "\n",
    "num_lst = []\n",
    "for n in p_lst:\n",
    "    num_lst.append(int(n)) #gen number list"
   ]
  },
  {
   "cell_type": "code",
   "execution_count": 47,
   "metadata": {},
   "outputs": [],
   "source": [
    "final_lst = []\n",
    "lst_i = num_lst\n",
    "for i in range(50):\n",
    "    lst_i = gen_new_num_lst(split_num_lst(lst_i))\n",
    "    final_lst.append(lst_i)"
   ]
  },
  {
   "cell_type": "code",
   "execution_count": 48,
   "metadata": {},
   "outputs": [
    {
     "data": {
      "text/plain": [
       "329356"
      ]
     },
     "execution_count": 48,
     "metadata": {},
     "output_type": "execute_result"
    }
   ],
   "source": [
    "len(final_lst[39])"
   ]
  },
  {
   "cell_type": "code",
   "execution_count": 49,
   "metadata": {},
   "outputs": [
    {
     "data": {
      "text/plain": [
       "4666278"
      ]
     },
     "execution_count": 49,
     "metadata": {},
     "output_type": "execute_result"
    }
   ],
   "source": [
    "len(final_lst[49])"
   ]
  },
  {
   "cell_type": "code",
   "execution_count": null,
   "metadata": {},
   "outputs": [],
   "source": []
  }
 ],
 "metadata": {
  "kernelspec": {
   "display_name": "Python 3",
   "language": "python",
   "name": "python3"
  },
  "language_info": {
   "codemirror_mode": {
    "name": "ipython",
    "version": 3
   },
   "file_extension": ".py",
   "mimetype": "text/x-python",
   "name": "python",
   "nbconvert_exporter": "python",
   "pygments_lexer": "ipython3",
   "version": "3.6.9"
  }
 },
 "nbformat": 4,
 "nbformat_minor": 2
}
