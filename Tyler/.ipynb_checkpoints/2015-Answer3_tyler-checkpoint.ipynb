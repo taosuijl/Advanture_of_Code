{
 "cells": [
  {
   "cell_type": "markdown",
   "metadata": {},
   "source": [
    "## Part 1\n",
    "use `DataFrame` to process data"
   ]
  },
  {
   "cell_type": "code",
   "execution_count": 1,
   "metadata": {},
   "outputs": [],
   "source": [
    "import pandas as pd"
   ]
  },
  {
   "cell_type": "code",
   "execution_count": 2,
   "metadata": {},
   "outputs": [
    {
     "name": "stdout",
     "output_type": "stream",
     "text": [
      "   x  y  present_qty\n",
      "0  0  0            1\n"
     ]
    }
   ],
   "source": [
    "presents = {'x' : [0], 'y' : [0], 'present_qty' : [1]}\n",
    "#x, y, present_qty define the location of house and qty of present\n",
    "df = pd.DataFrame(presents, columns = ['x', 'y', 'present_qty'])\n",
    "print(df)"
   ]
  },
  {
   "cell_type": "code",
   "execution_count": 3,
   "metadata": {},
   "outputs": [],
   "source": [
    "def action_next(x, y, char):\n",
    "    #based on input char, return next position coordinate\n",
    "    if char == '^':\n",
    "        y += 1\n",
    "    elif char == '>':\n",
    "        x += 1\n",
    "    elif char == '<':\n",
    "        x -= 1\n",
    "    elif char == 'v':\n",
    "        y -= 1\n",
    "    else:\n",
    "        print(\"input char error\")\n",
    "    return x, y   \n"
   ]
  },
  {
   "cell_type": "code",
   "execution_count": 4,
   "metadata": {},
   "outputs": [],
   "source": [
    "f = open('2015-Q3_tyler.txt', \"r\")\n",
    "\n",
    "locations = pd.DataFrame([[0, 0]], columns = ['x', 'y'])\n",
    "\n",
    "current_x = 0\n",
    "current_y = 0\n",
    "\n",
    "while 1:\n",
    "    char = f.read(1)\n",
    "    if not char: break\n",
    "    else:\n",
    "        current_x, current_y = action_next(current_x, current_y, char)\n",
    "        locations = locations.append(pd.DataFrame([[current_x, current_y]], columns = ['x', 'y']), ignore_index = True)\n",
    "        \n",
    "f.close()"
   ]
  },
  {
   "cell_type": "code",
   "execution_count": null,
   "metadata": {},
   "outputs": [],
   "source": [
    "locations.tail(3)"
   ]
  },
  {
   "cell_type": "code",
   "execution_count": 8,
   "metadata": {},
   "outputs": [
    {
     "data": {
      "text/html": [
       "<div>\n",
       "<style scoped>\n",
       "    .dataframe tbody tr th:only-of-type {\n",
       "        vertical-align: middle;\n",
       "    }\n",
       "\n",
       "    .dataframe tbody tr th {\n",
       "        vertical-align: top;\n",
       "    }\n",
       "\n",
       "    .dataframe thead th {\n",
       "        text-align: right;\n",
       "    }\n",
       "</style>\n",
       "<table border=\"1\" class=\"dataframe\">\n",
       "  <thead>\n",
       "    <tr style=\"text-align: right;\">\n",
       "      <th></th>\n",
       "      <th>X</th>\n",
       "      <th>Y</th>\n",
       "      <th>P_count</th>\n",
       "    </tr>\n",
       "  </thead>\n",
       "  <tbody>\n",
       "  </tbody>\n",
       "</table>\n",
       "</div>"
      ],
      "text/plain": [
       "Empty DataFrame\n",
       "Columns: [X, Y, P_count]\n",
       "Index: []"
      ]
     },
     "execution_count": 8,
     "metadata": {},
     "output_type": "execute_result"
    }
   ],
   "source": [
    "#create one dataframe to record every house position and presents qty\n",
    "presents = pd.DataFrame(columns = ['X', \"Y\", 'P_count'])\n",
    "presents"
   ]
  },
  {
   "cell_type": "code",
   "execution_count": 32,
   "metadata": {},
   "outputs": [],
   "source": [
    "#input xi, yi and raw dataframe, get row_count\n",
    "def presents_qty(xi, yi, ip_DF):\n",
    "    p_qty = len(ip_DF[(ip_DF['x'] == xi) & (ip_DF['y'] == yi)])\n",
    "    lst = [xi, yi, p_qty]\n",
    "    return lst"
   ]
  },
  {
   "cell_type": "code",
   "execution_count": 35,
   "metadata": {},
   "outputs": [],
   "source": [
    "for i in range(len(locations)):\n",
    "    x_i = locations.iloc[i][0]\n",
    "    y_i = locations.iloc[i][1]\n",
    "    presents = presents.append(pd.DataFrame([presents_qty(x_i, y_i, locations)], columns = ['X', 'Y', 'P_count']), ignore_index = True)    "
   ]
  },
  {
   "cell_type": "code",
   "execution_count": 41,
   "metadata": {},
   "outputs": [
    {
     "data": {
      "text/plain": [
       "8193"
      ]
     },
     "execution_count": 41,
     "metadata": {},
     "output_type": "execute_result"
    }
   ],
   "source": [
    "len(presents)"
   ]
  },
  {
   "cell_type": "code",
   "execution_count": 42,
   "metadata": {},
   "outputs": [
    {
     "data": {
      "text/plain": [
       "2081"
      ]
     },
     "execution_count": 42,
     "metadata": {},
     "output_type": "execute_result"
    }
   ],
   "source": [
    "presents_no_duplicate = presents.drop_duplicates()\n",
    "len(presents_no_duplicate)"
   ]
  },
  {
   "cell_type": "markdown",
   "metadata": {},
   "source": [
    "## Part 2\n",
    "use `list` to process data"
   ]
  },
  {
   "cell_type": "code",
   "execution_count": 117,
   "metadata": {},
   "outputs": [],
   "source": [
    "#read input\n",
    "f_2 = open('2015-Q3-p2_tyler.txt', 'r')\n",
    "\n",
    "#init Santa location and list\n",
    "lst_s = [[0 , 0]]\n",
    "curr_x_s = 0\n",
    "curr_y_s = 0\n",
    "\n",
    "#init Robot location and list\n",
    "lst_r = [[0, 0]]\n",
    "curr_x_r = 0\n",
    "curr_y_r = 0\n",
    "\n",
    "index = 0\n",
    "\n",
    "while 1: \n",
    "    char = f_2.read(1)\n",
    "    index += 1\n",
    "    if not char:\n",
    "        break\n",
    "    elif index % 2 == 0:\n",
    "        curr_x_r, curr_y_r = action_next(curr_x_r, curr_y_r, char)\n",
    "        lst_r.append([curr_x_r, curr_y_r])\n",
    "    else:\n",
    "        curr_x_s, curr_y_s = action_next(curr_x_s, curr_y_s, char)\n",
    "        lst_s.append([curr_x_s, curr_y_s])\n",
    "    \n",
    "f_2.close()"
   ]
  },
  {
   "cell_type": "code",
   "execution_count": 120,
   "metadata": {},
   "outputs": [],
   "source": [
    "present_lst = lst_s + lst_r"
   ]
  },
  {
   "cell_type": "code",
   "execution_count": 121,
   "metadata": {},
   "outputs": [],
   "source": [
    "import itertools"
   ]
  },
  {
   "cell_type": "code",
   "execution_count": 122,
   "metadata": {},
   "outputs": [],
   "source": [
    "present_lst.sort()"
   ]
  },
  {
   "cell_type": "code",
   "execution_count": 123,
   "metadata": {},
   "outputs": [
    {
     "data": {
      "text/plain": [
       "2341"
      ]
     },
     "execution_count": 123,
     "metadata": {},
     "output_type": "execute_result"
    }
   ],
   "source": [
    "#method1 from internet\n",
    "len(list(present_lst for present_lst in itertools.groupby(present_lst)))"
   ]
  },
  {
   "cell_type": "code",
   "execution_count": 124,
   "metadata": {},
   "outputs": [
    {
     "data": {
      "text/plain": [
       "2341"
      ]
     },
     "execution_count": 124,
     "metadata": {},
     "output_type": "execute_result"
    }
   ],
   "source": [
    "#method 2\n",
    "dedup_lst = [present_lst[0]]\n",
    "for l in present_lst:\n",
    "    if l != dedup_lst[-1]:\n",
    "        dedup_lst.append(l)\n",
    "len(dedup_lst)"
   ]
  },
  {
   "cell_type": "code",
   "execution_count": 136,
   "metadata": {},
   "outputs": [],
   "source": [
    "#method 3, list comprehension\n",
    "dd_lst = [l for index, l in enumerate(present_lst) if l !=present_lst[index-1]]"
   ]
  },
  {
   "cell_type": "code",
   "execution_count": 137,
   "metadata": {},
   "outputs": [
    {
     "data": {
      "text/plain": [
       "2341"
      ]
     },
     "execution_count": 137,
     "metadata": {},
     "output_type": "execute_result"
    }
   ],
   "source": [
    "len(dd_lst)"
   ]
  }
 ],
 "metadata": {
  "kernelspec": {
   "display_name": "Python 3",
   "language": "python",
   "name": "python3"
  },
  "language_info": {
   "codemirror_mode": {
    "name": "ipython",
    "version": 3
   },
   "file_extension": ".py",
   "mimetype": "text/x-python",
   "name": "python",
   "nbconvert_exporter": "python",
   "pygments_lexer": "ipython3",
   "version": "3.7.4"
  }
 },
 "nbformat": 4,
 "nbformat_minor": 4
}
