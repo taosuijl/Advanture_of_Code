{
 "cells": [
  {
   "cell_type": "markdown",
   "metadata": {},
   "source": [
    "## Part 1\n",
    "---\n"
   ]
  },
  {
   "cell_type": "markdown",
   "metadata": {},
   "source": [
    "* find a function to get the MD5 hash and test the 2 samples\n",
    "* combine str and number in one str\n",
    "* use while to test"
   ]
  },
  {
   "cell_type": "code",
   "execution_count": 17,
   "metadata": {},
   "outputs": [],
   "source": [
    "import hashlib, datetime"
   ]
  },
  {
   "cell_type": "code",
   "execution_count": 13,
   "metadata": {},
   "outputs": [
    {
     "name": "stdout",
     "output_type": "stream",
     "text": [
      "b'abcdef609043'\n",
      "000001dbbfa3a5c83a2d506429c7b00e\n"
     ]
    }
   ],
   "source": [
    "# find a function to get the MD5 hash and test the 2 samples\n",
    "str0 = \"abcdef609043\"\n",
    "print(str0.encode())\n",
    "result = hashlib.md5(str0.encode()).hexdigest()\n",
    "print(result)"
   ]
  },
  {
   "cell_type": "code",
   "execution_count": 8,
   "metadata": {},
   "outputs": [],
   "source": [
    "#use while to test, set the start point and end limit.\n",
    "def mining_coin(str1, start, end):\n",
    "    num = start\n",
    "    while num < end:\n",
    "        str_final = str1 + str(num)\n",
    "        result = hashlib.md5(str_final.encode()).hexdigest()\n",
    "        if result[0:5] == \"00000\":\n",
    "            return num\n",
    "        else:\n",
    "            num += 1"
   ]
  },
  {
   "cell_type": "code",
   "execution_count": 14,
   "metadata": {},
   "outputs": [
    {
     "name": "stdout",
     "output_type": "stream",
     "text": [
      "609043\n",
      "1048970\n"
     ]
    }
   ],
   "source": [
    "#testing 2 samples\n",
    "print(mining_coin(\"abcdef\", 0, 1000000))\n",
    "print(mining_coin(\"pqrstuv\", 0, 10000000))"
   ]
  },
  {
   "cell_type": "code",
   "execution_count": 21,
   "metadata": {},
   "outputs": [
    {
     "name": "stdout",
     "output_type": "stream",
     "text": [
      "2020-03-04 19:13:14.577358\n",
      "254575\n",
      "2020-03-04 19:13:14.972303\n"
     ]
    }
   ],
   "source": [
    "#answer\n",
    "print(datetime.datetime.now())\n",
    "print(mining_coin(\"bgvyzdsv\", 0, 100000000))\n",
    "print(datetime.datetime.now())"
   ]
  },
  {
   "cell_type": "markdown",
   "metadata": {},
   "source": [
    "## Part 2"
   ]
  },
  {
   "cell_type": "code",
   "execution_count": 22,
   "metadata": {},
   "outputs": [],
   "source": [
    "def mining_coin_2(str1, start, end):\n",
    "    num = start\n",
    "    while num < end:\n",
    "        str_final = str1 + str(num)\n",
    "        result = hashlib.md5(str_final.encode()).hexdigest()\n",
    "        if result[0:6] == \"000000\":\n",
    "            return num\n",
    "        else:\n",
    "            num += 1"
   ]
  },
  {
   "cell_type": "code",
   "execution_count": 23,
   "metadata": {},
   "outputs": [
    {
     "name": "stdout",
     "output_type": "stream",
     "text": [
      "2020-03-04 19:33:00.184551\n",
      "1038736\n",
      "2020-03-04 19:33:01.683541\n"
     ]
    }
   ],
   "source": [
    "#answer\n",
    "print(datetime.datetime.now())\n",
    "print(mining_coin_2(\"bgvyzdsv\", 0, 100000000))\n",
    "print(datetime.datetime.now())"
   ]
  },
  {
   "cell_type": "code",
   "execution_count": null,
   "metadata": {},
   "outputs": [],
   "source": []
  }
 ],
 "metadata": {
  "kernelspec": {
   "display_name": "Python 3",
   "language": "python",
   "name": "python3"
  },
  "language_info": {
   "codemirror_mode": {
    "name": "ipython",
    "version": 3
   },
   "file_extension": ".py",
   "mimetype": "text/x-python",
   "name": "python",
   "nbconvert_exporter": "python",
   "pygments_lexer": "ipython3",
   "version": "3.7.4"
  }
 },
 "nbformat": 4,
 "nbformat_minor": 4
}
