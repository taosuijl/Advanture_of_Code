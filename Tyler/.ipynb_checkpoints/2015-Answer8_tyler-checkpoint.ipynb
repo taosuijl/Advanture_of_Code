{
 "cells": [
  {
   "cell_type": "markdown",
   "metadata": {},
   "source": [
    "# Part 1"
   ]
  },
  {
   "cell_type": "code",
   "execution_count": 255,
   "metadata": {},
   "outputs": [],
   "source": [
    "f = open(\"2015-Q8_tyler.txt\", 'r')\n",
    "#get a str include all characters from the file, with \"\\n\"\n",
    "string_f = f.read(40000).replace('\\n', '')\n",
    "\n",
    "f.close()\n",
    "\n",
    "#cal how many char file has. \n",
    "total = len(string_f)"
   ]
  },
  {
   "cell_type": "code",
   "execution_count": 256,
   "metadata": {
    "scrolled": true
   },
   "outputs": [],
   "source": [
    "clean1 = string_f[1:-1].replace('\"\"', '')"
   ]
  },
  {
   "cell_type": "code",
   "execution_count": 257,
   "metadata": {
    "scrolled": true
   },
   "outputs": [],
   "source": [
    "clean2 = clean1.replace('\\\\\\\"', 'A')"
   ]
  },
  {
   "cell_type": "code",
   "execution_count": 258,
   "metadata": {
    "scrolled": true
   },
   "outputs": [],
   "source": [
    "clean3 = clean2.replace('\\\\\\\\', 'B')"
   ]
  },
  {
   "cell_type": "code",
   "execution_count": 259,
   "metadata": {},
   "outputs": [],
   "source": [
    "hexadecimal_loc = []\n",
    "start = 0\n",
    "while start != -1:\n",
    "    start = clean3.find('\\\\x', start)\n",
    "    if start != -1:\n",
    "        start += 1\n",
    "        hexadecimal_loc.append(start)"
   ]
  },
  {
   "cell_type": "code",
   "execution_count": 260,
   "metadata": {},
   "outputs": [
    {
     "data": {
      "text/plain": [
       "1342"
      ]
     },
     "execution_count": 260,
     "metadata": {},
     "output_type": "execute_result"
    }
   ],
   "source": [
    "total- (len(clean3) - len(hexadecimal_loc) * 3)"
   ]
  },
  {
   "cell_type": "markdown",
   "metadata": {},
   "source": [
    "# Part 2"
   ]
  },
  {
   "cell_type": "code",
   "execution_count": 261,
   "metadata": {},
   "outputs": [],
   "source": [
    "f = open(\"2015-Q8_tyler.txt\", 'r')\n",
    "#get a str include all characters from the file, with \"\\n\"\n",
    "string_f = f.read(40000).replace('\\n', '')\n",
    "\n",
    "f.close()\n",
    "\n",
    "#cal how many char file has. \n",
    "total = len(string_f)"
   ]
  },
  {
   "cell_type": "code",
   "execution_count": 262,
   "metadata": {},
   "outputs": [],
   "source": [
    "encode1 = string_f.replace('\"\"', 'AAAAAA')"
   ]
  },
  {
   "cell_type": "code",
   "execution_count": 263,
   "metadata": {},
   "outputs": [],
   "source": [
    "encode2 = encode1.replace('\\\\\\\"', 'BBBB')"
   ]
  },
  {
   "cell_type": "code",
   "execution_count": 264,
   "metadata": {},
   "outputs": [],
   "source": [
    "encode3 = encode2.replace('\\\\\\\\', 'CCCC')"
   ]
  },
  {
   "cell_type": "code",
   "execution_count": 265,
   "metadata": {
    "scrolled": true
   },
   "outputs": [],
   "source": [
    "encode4 = encode3.replace('\"',  'DDD')"
   ]
  },
  {
   "cell_type": "code",
   "execution_count": 266,
   "metadata": {},
   "outputs": [],
   "source": [
    "hexadecimal_loc = []\n",
    "start = 0\n",
    "while start != -1:\n",
    "    start = encode4.find('\\\\x', start)\n",
    "    if start != -1:\n",
    "        start += 1\n",
    "        hexadecimal_loc.append(start)"
   ]
  },
  {
   "cell_type": "code",
   "execution_count": 267,
   "metadata": {},
   "outputs": [],
   "source": [
    "added = len(encode4) + len(hexadecimal_loc) - total"
   ]
  },
  {
   "cell_type": "code",
   "execution_count": 268,
   "metadata": {},
   "outputs": [
    {
     "data": {
      "text/plain": [
       "2074"
      ]
     },
     "execution_count": 268,
     "metadata": {},
     "output_type": "execute_result"
    }
   ],
   "source": [
    "added"
   ]
  }
 ],
 "metadata": {
  "kernelspec": {
   "display_name": "Python 2",
   "language": "python",
   "name": "python2"
  },
  "language_info": {
   "codemirror_mode": {
    "name": "ipython",
    "version": 2
   },
   "file_extension": ".py",
   "mimetype": "text/x-python",
   "name": "python",
   "nbconvert_exporter": "python",
   "pygments_lexer": "ipython2",
   "version": "2.7.17"
  }
 },
 "nbformat": 4,
 "nbformat_minor": 2
}
