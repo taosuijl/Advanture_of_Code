{
 "cells": [
  {
   "cell_type": "markdown",
   "metadata": {},
   "source": [
    "# Day 6: Probably a Fire Hazard \n",
    "------\n",
    "## Part 1\n",
    "Because your neighbors keep defeating you in the holiday house decorating contest year after year, you've decided to deploy one million lights in a 1000x1000 grid.\n",
    "\n",
    "Furthermore, because you've been especially nice this year, Santa has mailed you instructions on how to display the ideal lighting configuration.\n",
    "\n",
    "Lights in your grid are numbered from 0 to 999 in each direction; the lights at each corner are at 0,0, 0,999, 999,999, and 999,0. The instructions include whether to turn on, turn off, or toggle various inclusive ranges given as coordinate pairs. Each coordinate pair represents opposite corners of a rectangle, inclusive; a coordinate pair like 0,0 through 2,2 therefore refers to 9 lights in a 3x3 square. The lights all start turned off.\n",
    "\n",
    "To defeat your neighbors this year, all you have to do is set up your lights by doing the instructions Santa sent you in order.\n",
    "\n",
    "For example:\n",
    "\n",
    "* turn on 0,0 through 999,999 would turn on (or leave on) every light.\n",
    "* toggle 0,0 through 999,0 would toggle the first line of 1000 lights, turning off the ones that were on, and turning on the ones that were off.\n",
    "* turn off 499,499 through 500,500 would turn off (or leave off) the middle four lights.\n",
    "\n",
    "\n",
    "After following the instructions, how many lights are lit?"
   ]
  },
  {
   "cell_type": "markdown",
   "metadata": {},
   "source": [
    "your input is \"2015-Q6_tyler.txt\""
   ]
  },
  {
   "cell_type": "markdown",
   "metadata": {},
   "source": [
    "## Split question to below steps\n",
    "1. create a 2D frame to store the \"status\" for coordinate\n",
    "2. create functions for turn on/off and toggle\n",
    "3. read the file line by line\n",
    "4. display the status of coordinate"
   ]
  },
  {
   "cell_type": "code",
   "execution_count": 103,
   "metadata": {},
   "outputs": [],
   "source": [
    "# 1. create a 2D frame to store the \"status\" for coordinate\n",
    "max_len = 1000\n",
    "display_lst = [[0 for i in range(max_len)] for i in range(max_len)]"
   ]
  },
  {
   "cell_type": "code",
   "execution_count": 104,
   "metadata": {},
   "outputs": [],
   "source": [
    "#2.  if turn off, next_act = 0, if turn on, next_act = 1, if toggle, next_act = -1\n",
    "\n",
    "def light_action(act_lst, DL):\n",
    "    # act_lst = [next_act, start_point_list=[x0,y0], end_point_list=[xi,yi]]\n",
    "    #DL is display list\n",
    "    \n",
    "    x0 = int(act_lst[1][0])\n",
    "    y0 = int(act_lst[1][1])\n",
    "    xi = int(act_lst[2][0])\n",
    "    yi = int(act_lst[2][1])\n",
    "    \n",
    "    if act_lst[0] == 0 or act_lst[0] == 1:\n",
    "        for i in range(x0, xi+1):\n",
    "            for k in range(y0, yi+1):\n",
    "                DL[i][k] = act_lst[0]\n",
    "    elif act_lst[0] == -1:\n",
    "        for i in range(x0, xi+1):\n",
    "            for k in range(y0, yi+1):\n",
    "                DL[i][k] = abs(DL[i][k]-1)\n",
    "    \n",
    "    else:\n",
    "        print(\"error\")\n",
    "    \n",
    "    return None"
   ]
  },
  {
   "cell_type": "code",
   "execution_count": 105,
   "metadata": {},
   "outputs": [],
   "source": [
    "#3. read the file line by line\n",
    "f = open(\"2015-Q6_tyler.txt\", 'r')\n",
    "instruction_lst = []\n",
    "lst = f.readlines()\n",
    "f.close()"
   ]
  },
  {
   "cell_type": "code",
   "execution_count": 106,
   "metadata": {},
   "outputs": [],
   "source": [
    "def judge_action(str):\n",
    "    if str == \"on\":\n",
    "        return 1\n",
    "    elif str == \"off\":\n",
    "        return 0\n",
    "    elif str == \"toggle\":\n",
    "        return -1"
   ]
  },
  {
   "cell_type": "code",
   "execution_count": 107,
   "metadata": {},
   "outputs": [],
   "source": [
    "for l in lst:\n",
    "    # n_a is next_act, spl is strat_point_lst, epl is end_point_list\n",
    "    n_a = judge_action(l.split()[-4])\n",
    "    spl = l.split()[-3].split(\",\")\n",
    "    epl = l.split()[-1].split(\",\")\n",
    "    instruction_lst.append([n_a, spl, epl])"
   ]
  },
  {
   "cell_type": "code",
   "execution_count": 108,
   "metadata": {},
   "outputs": [],
   "source": [
    "for l in instruction_lst:\n",
    "    light_action(l, display_lst)"
   ]
  },
  {
   "cell_type": "code",
   "execution_count": 109,
   "metadata": {},
   "outputs": [
    {
     "data": {
      "text/plain": [
       "400410"
      ]
     },
     "execution_count": 109,
     "metadata": {},
     "output_type": "execute_result"
    }
   ],
   "source": [
    "total = 0\n",
    "for l in display_lst:\n",
    "    total = total + sum(l)\n",
    "\n",
    "total"
   ]
  },
  {
   "cell_type": "markdown",
   "metadata": {},
   "source": [
    "## Part 2\n"
   ]
  },
  {
   "cell_type": "markdown",
   "metadata": {},
   "source": [
    "You just finish implementing your winning light pattern when you realize you mistranslated Santa's message from Ancient Nordic Elvish.\n",
    "\n",
    "The light grid you bought actually has individual brightness controls; each light can have a brightness of zero or more. The lights all start at zero.\n",
    "\n",
    "The phrase turn on actually means that you should increase the brightness of those lights by 1.\n",
    "\n",
    "The phrase turn off actually means that you should decrease the brightness of those lights by 1, to a minimum of zero.\n",
    "\n",
    "The phrase toggle actually means that you should increase the brightness of those lights by 2.\n",
    "\n",
    "What is the total brightness of all lights combined after following Santa's instructions?\n",
    "\n",
    "For example:\n",
    "\n",
    "* turn on 0,0 through 0,0 would increase the total brightness by 1.\n",
    "* toggle 0,0 through 999,999 would increase the total brightness by 2000000."
   ]
  },
  {
   "cell_type": "markdown",
   "metadata": {},
   "source": [
    "your input is \"2015-Q6-p2_tyler.txt\""
   ]
  },
  {
   "cell_type": "code",
   "execution_count": 162,
   "metadata": {},
   "outputs": [],
   "source": [
    "max_length = 1000\n",
    "dis_lst = [[0 for i in range(max_length)] for i in range(max_length)]"
   ]
  },
  {
   "cell_type": "code",
   "execution_count": 152,
   "metadata": {},
   "outputs": [],
   "source": [
    "def new_action(act_lst, DL):\n",
    "    #act_lst = [next_act, start_point, end_point], DL is dis_lst\n",
    "    x0 = int(act_lst[1].split(\",\")[0])\n",
    "    y0 = int(act_lst[1].split(\",\")[1])\n",
    "    xi = int(act_lst[2].split(\",\")[0])\n",
    "    yi = int(act_lst[2].split(\",\")[1])\n",
    "    \n",
    "    if act_lst[0] == 1:\n",
    "        for i in range(x0, xi +1):\n",
    "            for k in range(y0, yi+1):\n",
    "                DL[i][k] += 1\n",
    "                \n",
    "    elif act_lst[0] == -1:\n",
    "        for i in range(x0, xi +1):\n",
    "            for k in range(y0, yi+1):\n",
    "                if DL[i][k] > 0:\n",
    "                    DL[i][k] -= 1\n",
    "                else:\n",
    "                    DL[i][k] = 0\n",
    "                \n",
    "    elif act_lst[0] == 2:\n",
    "        for i in range(x0, xi +1):\n",
    "            for k in range(y0, yi+1):\n",
    "                DL[i][k] = DL[i][k] + 2\n",
    "    else:\n",
    "        print(\"error\")\n",
    "    return None"
   ]
  },
  {
   "cell_type": "code",
   "execution_count": 163,
   "metadata": {},
   "outputs": [],
   "source": [
    "f = open(\"2015-Q6_tyler.txt\", 'r')\n",
    "lst1 = f.readlines()\n",
    "f.close()"
   ]
  },
  {
   "cell_type": "code",
   "execution_count": 164,
   "metadata": {},
   "outputs": [],
   "source": [
    "instru_lst = []\n",
    "for l in lst1:\n",
    "    sp = l.split()[-3]\n",
    "    ep = l.split()[-1]\n",
    "    if l.split()[-4] == \"off\":\n",
    "        action1 = -1\n",
    "    elif l.split()[-4] == \"on\":\n",
    "        action1 = 1\n",
    "    elif l.split()[-4] == \"toggle\":\n",
    "        action1 = 2\n",
    "    \n",
    "    instru_lst.append([action1, sp, ep])"
   ]
  },
  {
   "cell_type": "code",
   "execution_count": 165,
   "metadata": {},
   "outputs": [],
   "source": [
    "for l in instru_lst:\n",
    "    new_action(l, dis_lst)"
   ]
  },
  {
   "cell_type": "code",
   "execution_count": 166,
   "metadata": {},
   "outputs": [
    {
     "data": {
      "text/plain": [
       "15343601"
      ]
     },
     "execution_count": 166,
     "metadata": {},
     "output_type": "execute_result"
    }
   ],
   "source": [
    "total2 = 0 \n",
    "for l in dis_lst:\n",
    "    total2 = total2 + sum(l)\n",
    "    \n",
    "total2"
   ]
  },
  {
   "cell_type": "code",
   "execution_count": null,
   "metadata": {},
   "outputs": [],
   "source": []
  }
 ],
 "metadata": {
  "kernelspec": {
   "display_name": "Python 3",
   "language": "python",
   "name": "python3"
  },
  "language_info": {
   "codemirror_mode": {
    "name": "ipython",
    "version": 3
   },
   "file_extension": ".py",
   "mimetype": "text/x-python",
   "name": "python",
   "nbconvert_exporter": "python",
   "pygments_lexer": "ipython3",
   "version": "3.7.6"
  }
 },
 "nbformat": 4,
 "nbformat_minor": 4
}
