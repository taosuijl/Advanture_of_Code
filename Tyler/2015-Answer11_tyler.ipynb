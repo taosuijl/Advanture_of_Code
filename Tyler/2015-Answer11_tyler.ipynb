{
 "cells": [
  {
   "cell_type": "code",
   "execution_count": 1,
   "metadata": {},
   "outputs": [],
   "source": [
    "#create a alphabet list\n",
    "import string\n",
    "alphabet_lst = list(string.ascii_lowercase)\n",
    "\n",
    "#form a dict for 26 char\n",
    "dic_n = {}\n",
    "dic_c = {}\n",
    "i = 0\n",
    "for char in alphabet_lst:\n",
    "    dic_n[i] = char\n",
    "    dic_c[char] = i\n",
    "    i += 1\n",
    "\n",
    "# generate a dic without \"iol\"\n",
    "dic_c_wo = {}\n",
    "dic_n_wo = {}\n",
    "i = 0\n",
    "for char in alphabet_lst:\n",
    "    if char in ['i', 'o', 'l']:\n",
    "        continue\n",
    "    else:\n",
    "        dic_c_wo[char] = i\n",
    "        dic_n_wo[i] = char\n",
    "        i += 1"
   ]
  },
  {
   "cell_type": "code",
   "execution_count": 2,
   "metadata": {},
   "outputs": [],
   "source": [
    "# create function1 for increasing straight 3 chars\n",
    "def f_abc(lst):\n",
    "    for i in range(len(lst)-2):\n",
    "        if lst[i] < lst[i + 1]:\n",
    "            if lst[i + 1] < lst[i + 2]:\n",
    "                if dic_c[lst[i + 2]] - dic_c[lst[i]] == 2:\n",
    "                    return True\n",
    "    return False"
   ]
  },
  {
   "cell_type": "code",
   "execution_count": 3,
   "metadata": {},
   "outputs": [],
   "source": [
    "# create function 2 to check \"iol\"\n",
    "def f_iol(lst):\n",
    "    iol = ['i', 'o', 'l']\n",
    "    for char in iol:\n",
    "        if char in lst:\n",
    "            return False\n",
    "    return True"
   ]
  },
  {
   "cell_type": "code",
   "execution_count": 4,
   "metadata": {},
   "outputs": [],
   "source": [
    "# create function 3 to check repeat words.\n",
    "def f_aabb(lst):\n",
    "    if len(lst) - len(set(lst)) > 1:\n",
    "        repeat_lst = []\n",
    "        for i in range(len(lst)-1):\n",
    "            if lst[i] == lst[i + 1]:\n",
    "                repeat_lst.append(lst[i])\n",
    "        if len(set(repeat_lst)) > 1:\n",
    "            return True\n",
    "    return False"
   ]
  },
  {
   "cell_type": "code",
   "execution_count": 16,
   "metadata": {},
   "outputs": [],
   "source": [
    "# create function for lst incrementing. \n",
    "def f_incrementing(lst):\n",
    "    if not f_iol(lst):\n",
    "        for i in range(len(lst)):\n",
    "            if lst[i] in ['i', 'o', 'l']:\n",
    "                lst[i] = dic_n[dic_c[lst[i]] + 1]\n",
    "                for j in range(i+1, len(lst)):\n",
    "                    lst[j] = 'a'\n",
    "        return lst\n",
    "    else:\n",
    "        k = len(lst) - 1\n",
    "        while k >= 0:\n",
    "            if lst[k] != 'z':\n",
    "                lst[k] = dic_n_wo[dic_c_wo[lst[k]] + 1]\n",
    "                return lst\n",
    "            else:\n",
    "                lst[k] = 'a'\n",
    "                k -= 1"
   ]
  },
  {
   "cell_type": "code",
   "execution_count": 19,
   "metadata": {},
   "outputs": [
    {
     "name": "stdout",
     "output_type": "stream",
     "text": [
      "cqjxxyzz\n"
     ]
    }
   ],
   "source": [
    "input_lst = list('cqjxjnds')\n",
    "nl = f_incrementing(input_lst)\n",
    "while not (f_abc(nl) and f_aabb(nl)):\n",
    "    f_incrementing(nl)\n",
    "new_pwd = ''\n",
    "for char in nl:\n",
    "    new_pwd += char\n",
    "print(new_pwd)"
   ]
  },
  {
   "cell_type": "code",
   "execution_count": 20,
   "metadata": {},
   "outputs": [
    {
     "name": "stdout",
     "output_type": "stream",
     "text": [
      "cqkaabcc\n"
     ]
    }
   ],
   "source": [
    "input_lst = list('cqjxxyzz')\n",
    "nl = f_incrementing(input_lst)\n",
    "while not (f_abc(nl) and f_aabb(nl)):\n",
    "    f_incrementing(nl)\n",
    "new_pwd = ''\n",
    "for char in nl:\n",
    "    new_pwd += char\n",
    "print(new_pwd)"
   ]
  }
 ],
 "metadata": {
  "kernelspec": {
   "display_name": "Python 3",
   "language": "python",
   "name": "python3"
  },
  "language_info": {
   "codemirror_mode": {
    "name": "ipython",
    "version": 3
   },
   "file_extension": ".py",
   "mimetype": "text/x-python",
   "name": "python",
   "nbconvert_exporter": "python",
   "pygments_lexer": "ipython3",
   "version": "3.6.9"
  }
 },
 "nbformat": 4,
 "nbformat_minor": 2
}
