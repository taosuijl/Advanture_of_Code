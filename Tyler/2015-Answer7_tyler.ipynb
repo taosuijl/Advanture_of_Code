{
 "cells": [
  {
   "cell_type": "markdown",
   "metadata": {},
   "source": [
    "Basic method for '123' --> 'x' --> 'y' -->'z'\n",
    "```python\n",
    "dic = {}\n",
    "element1 = {'name': 'x', 'value': '123', 'con': None}\n",
    "element2 = {'name': 'y', 'value': 'x', 'con': 'eql'}\n",
    "element3 = {'name': 'z', 'value': 'y', 'con': 'eql'}\n",
    "\n",
    "dic.update({element1['name']:element1, element2['name']:element2, element3['name']:element3})\n",
    "\n",
    "def name_value(name_st, dic_lst):\n",
    "    \n",
    "    d1 = dic_lst[name_st]\n",
    "    \n",
    "    if d1['con'] == 'eql':\n",
    "        return name_value(d1['value'], dic_lst)\n",
    "    else:\n",
    "        return d1['value']\n",
    "\n",
    "name_value('z', dic)\n",
    "\n",
    "```\n",
    "\n",
    "output \n",
    ">'123'"
   ]
  },
  {
   "cell_type": "code",
   "execution_count": 357,
   "metadata": {},
   "outputs": [],
   "source": [
    "f = open(\"2015-Q7_tyler.txt\", 'r')\n",
    "lst = f.readlines()\n",
    "f.close()"
   ]
  },
  {
   "cell_type": "code",
   "execution_count": 358,
   "metadata": {},
   "outputs": [],
   "source": [
    "circuit = {}\n",
    "final_dic = {}"
   ]
  },
  {
   "cell_type": "code",
   "execution_count": 359,
   "metadata": {},
   "outputs": [],
   "source": [
    "for line in lst:\n",
    "    \n",
    "    if len(line.split()) == 3:\n",
    "        element = {'connect_method': 'eql', 'value': line.split()[0]}\n",
    "    elif len(line.split()) == 4:\n",
    "        if line.split()[0] == 'NOT':\n",
    "            element = {'connect_method': 'not', 'value': line.split()[1]}\n",
    "        else:\n",
    "            print('error')\n",
    "            break\n",
    "    elif len(line.split()) == 5:\n",
    "        cm = line.split()[1]\n",
    "        element = {'connect_method': line.split()[1], 'value': (line.split()[0], line.split()[2])}\n",
    "    else:\n",
    "        print('input error')\n",
    "        break\n",
    "    \n",
    "    circuit.update({line.split()[-1]: element})"
   ]
  },
  {
   "cell_type": "code",
   "execution_count": 360,
   "metadata": {},
   "outputs": [],
   "source": [
    "def not_exist_newdic(name_str, dic2):\n",
    "    try:\n",
    "        dic2[name_str]\n",
    "        return False\n",
    "    except:\n",
    "        return True"
   ]
  },
  {
   "cell_type": "code",
   "execution_count": 361,
   "metadata": {},
   "outputs": [],
   "source": [
    "def two_value_check(one_str, dic1, dic2, i):\n",
    "    #one_v is one of the value inside of d1['value']\n",
    "    try:\n",
    "        int_v = int(one_str)\n",
    "        bool_v = True\n",
    "    except:\n",
    "        if not_exist_newdic(one_str, dic2):\n",
    "            i += 1\n",
    "            int_v = \"error\"\n",
    "            bool_v = False\n",
    "            get_value(one_str, dic1, dic2, i)\n",
    "        else:\n",
    "            int_v = dic2[one_str]\n",
    "            bool_v = True\n",
    "   \n",
    "    return int_v, bool_v"
   ]
  },
  {
   "cell_type": "code",
   "execution_count": 362,
   "metadata": {},
   "outputs": [],
   "source": [
    "def get_value(name_str, dic1, dic2, i):\n",
    "    \n",
    "    d1 = dic1[name_str]\n",
    "    \n",
    "    if i <5:\n",
    "        \n",
    "        if d1['connect_method'] == 'eql':\n",
    "            try:\n",
    "                a = int(d1['value'])\n",
    "                dic2.update({name_str: a})\n",
    "            except:\n",
    "                if not_exist_newdic(d1['value'], dic2):\n",
    "                    i += 1\n",
    "                    get_value(d1['value'], dic1, dic2, i)\n",
    "                else:\n",
    "                    dic2.update({name_str: dic2[d1['value']]})\n",
    "        \n",
    "        elif d1['connect_method'] == 'not':\n",
    "            try:\n",
    "                a = 0xffff - int(d1['value'])\n",
    "                dic2.update({name_str: a})\n",
    "            except:\n",
    "                if not_exist_newdic(d1['value'], dic2):\n",
    "                    i += 1\n",
    "                    get_value(d1['value'], dic1, dic2, i)\n",
    "                else:\n",
    "                    a = 0xffff - dic2[d1['value']]\n",
    "                    dic2.update({name_str: a})\n",
    "                    \n",
    "        else:\n",
    "            A, B = d1['value']\n",
    "            \n",
    "            a, c = two_value_check(A, dic1, dic2, i)\n",
    "                \n",
    "            b, d = two_value_check(B, dic1, dic2, i)\n",
    "                \n",
    "            \n",
    "            if c and d:\n",
    "                if d1['connect_method'] == 'AND':\n",
    "                    final_v = a & b\n",
    "                elif d1['connect_method'] == 'OR':\n",
    "                    final_v = a | b\n",
    "                elif d1['connect_method'] == 'LSHIFT':\n",
    "                    final_v = a << b\n",
    "                else:\n",
    "                    #d1['connect_method'] == 'RSHIFT':\n",
    "                    final_v = a >> b\n",
    "                    \n",
    "                dic2.update({name_str: final_v})"
   ]
  },
  {
   "cell_type": "code",
   "execution_count": 363,
   "metadata": {
    "scrolled": true
   },
   "outputs": [
    {
     "name": "stdout",
     "output_type": "stream",
     "text": [
      "0:00:00.127621\n"
     ]
    }
   ],
   "source": [
    "import datetime\n",
    "t1 = datetime.datetime.now()\n",
    "\n",
    "while len(circuit) > len(final_dic):\n",
    "    for line in circuit:\n",
    "        if not_exist_newdic(line, final_dic):\n",
    "            get_value(line, circuit, final_dic, 0)\n",
    "\n",
    "t2 = datetime.datetime.now()\n",
    "print(t2-t1)"
   ]
  },
  {
   "cell_type": "code",
   "execution_count": 336,
   "metadata": {},
   "outputs": [
    {
     "data": {
      "text/plain": [
       "3176"
      ]
     },
     "execution_count": 336,
     "metadata": {},
     "output_type": "execute_result"
    }
   ],
   "source": [
    "final_dic['a']"
   ]
  },
  {
   "cell_type": "markdown",
   "metadata": {},
   "source": [
    "if i = 10 need 0.218170s\n",
    "\n",
    "if i = 5  need 0.099324s\n",
    "\n",
    "if i = 3  need 0.127621s"
   ]
  },
  {
   "cell_type": "code",
   "execution_count": 365,
   "metadata": {},
   "outputs": [],
   "source": [
    "final_dic = {}\n",
    "final_dic.update({'b': 3176})"
   ]
  },
  {
   "cell_type": "code",
   "execution_count": 366,
   "metadata": {},
   "outputs": [
    {
     "name": "stdout",
     "output_type": "stream",
     "text": [
      "0:00:00.140553\n"
     ]
    }
   ],
   "source": [
    "import datetime\n",
    "t1 = datetime.datetime.now()\n",
    "\n",
    "while len(circuit) > len(final_dic):\n",
    "    for line in circuit:\n",
    "        if not_exist_newdic(line, final_dic):\n",
    "            get_value(line, circuit, final_dic, 0)\n",
    "\n",
    "t2 = datetime.datetime.now()\n",
    "print(t2-t1)"
   ]
  },
  {
   "cell_type": "code",
   "execution_count": 368,
   "metadata": {},
   "outputs": [
    {
     "data": {
      "text/plain": [
       "14710"
      ]
     },
     "execution_count": 368,
     "metadata": {},
     "output_type": "execute_result"
    }
   ],
   "source": [
    "final_dic['a']"
   ]
  },
  {
   "cell_type": "code",
   "execution_count": null,
   "metadata": {},
   "outputs": [],
   "source": []
  }
 ],
 "metadata": {
  "kernelspec": {
   "display_name": "Python 2",
   "language": "python",
   "name": "python2"
  },
  "language_info": {
   "codemirror_mode": {
    "name": "ipython",
    "version": 2
   },
   "file_extension": ".py",
   "mimetype": "text/x-python",
   "name": "python",
   "nbconvert_exporter": "python",
   "pygments_lexer": "ipython2",
   "version": "2.7.17"
  }
 },
 "nbformat": 4,
 "nbformat_minor": 2
}