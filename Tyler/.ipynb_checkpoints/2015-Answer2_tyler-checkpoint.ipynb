{
 "cells": [
  {
   "cell_type": "markdown",
   "metadata": {},
   "source": [
    "## Question 2\n",
    "\n",
    "### Part 1"
   ]
  },
  {
   "cell_type": "code",
   "execution_count": 73,
   "metadata": {},
   "outputs": [],
   "source": [
    "f = open(\"2015_Q2_tyler.txt\", \"r\")\n",
    "lines = f.readlines()\n",
    "\n",
    "f.close()"
   ]
  },
  {
   "cell_type": "code",
   "execution_count": 74,
   "metadata": {},
   "outputs": [
    {
     "data": {
      "text/plain": [
       "1000"
      ]
     },
     "execution_count": 74,
     "metadata": {},
     "output_type": "execute_result"
    }
   ],
   "source": [
    "len(lines)"
   ]
  },
  {
   "cell_type": "code",
   "execution_count": 70,
   "metadata": {},
   "outputs": [],
   "source": [
    "def get_lwh(line):\n",
    "    #the function to get length, width and height.  index1 and index2 is x position\n",
    "    index1 = line.find(\"x\")\n",
    "    index2 = line.rfind(\"x\")\n",
    "    l = int(line[0 : index1])\n",
    "    w = int(line[index1+1 : index2])\n",
    "    h = int(line[index2+1 : len(line)])\n",
    "    return l, w, h"
   ]
  },
  {
   "cell_type": "code",
   "execution_count": 71,
   "metadata": {},
   "outputs": [],
   "source": [
    "def add_size(a, b, c):\n",
    "    #the function to get size of paper for every present\n",
    "    return 3 * a * b + 2 * a * c + 2 * b * c"
   ]
  },
  {
   "cell_type": "code",
   "execution_count": 72,
   "metadata": {},
   "outputs": [
    {
     "name": "stdout",
     "output_type": "stream",
     "text": [
      "1588178\n"
     ]
    }
   ],
   "source": [
    "presents = []\n",
    "\n",
    "for line in lines:\n",
    "    presents.append(list(get_lwh(line)))\n",
    "\n",
    "total = 0 \n",
    "\n",
    "for i in range(len(presents)):\n",
    "    presents[i].sort()\n",
    "    total += add_size(presents[i][0], presents[i][1], presents[i][2])\n",
    "\n",
    "print(total)"
   ]
  },
  {
   "cell_type": "code",
   "execution_count": null,
   "metadata": {},
   "outputs": [],
   "source": [
    "presents"
   ]
  },
  {
   "cell_type": "markdown",
   "metadata": {},
   "source": [
    "### Part 2"
   ]
  },
  {
   "cell_type": "code",
   "execution_count": 75,
   "metadata": {},
   "outputs": [],
   "source": [
    "def add_length(a, b, c):\n",
    "    #the function to get length of ribbon for every present\n",
    "    return (2 * (a + b) + a * b * c)"
   ]
  },
  {
   "cell_type": "code",
   "execution_count": 77,
   "metadata": {},
   "outputs": [
    {
     "name": "stdout",
     "output_type": "stream",
     "text": [
      "3783758\n"
     ]
    }
   ],
   "source": [
    "ribbon_length = 0 \n",
    "for i in range(len(presents)):\n",
    "    ribbon_length += add_length(presents[i][0], presents[i][1], presents[i][2])\n",
    "\n",
    "print(ribbon_length)"
   ]
  },
  {
   "cell_type": "code",
   "execution_count": null,
   "metadata": {},
   "outputs": [],
   "source": []
  }
 ],
 "metadata": {
  "kernelspec": {
   "display_name": "Python 3",
   "language": "python",
   "name": "python3"
  },
  "language_info": {
   "codemirror_mode": {
    "name": "ipython",
    "version": 3
   },
   "file_extension": ".py",
   "mimetype": "text/x-python",
   "name": "python",
   "nbconvert_exporter": "python",
   "pygments_lexer": "ipython3",
   "version": "3.7.4"
  }
 },
 "nbformat": 4,
 "nbformat_minor": 4
}
