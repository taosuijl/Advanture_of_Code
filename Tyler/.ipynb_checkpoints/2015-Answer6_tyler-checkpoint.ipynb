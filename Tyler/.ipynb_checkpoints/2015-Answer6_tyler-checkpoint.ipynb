{
 "cells": [
  {
   "cell_type": "markdown",
   "metadata": {},
   "source": [
    "## Part 1"
   ]
  },
  {
   "cell_type": "markdown",
   "metadata": {},
   "source": [
    "1. create a 2D frame to store the \"status\" for coordinate\n",
    "2. create functions for turn on/off and toggle\n",
    "3. read the file line by line\n",
    "4. display the status of coordinate"
   ]
  },
  {
   "cell_type": "code",
   "execution_count": 103,
   "metadata": {},
   "outputs": [],
   "source": [
    "# 1. create a 2D frame to store the \"status\" for coordinate\n",
    "max_len = 1000\n",
    "display_lst = [[0 for i in range(max_len)] for i in range(max_len)]"
   ]
  },
  {
   "cell_type": "code",
   "execution_count": 104,
   "metadata": {},
   "outputs": [],
   "source": [
    "#2.  if turn off, next_act = 0, if turn on, next_act = 1, if toggle, next_act = -1\n",
    "\n",
    "def light_action(act_lst, DL):\n",
    "    # act_lst = [next_act, start_point_list=[x0,y0], end_point_list=[xi,yi]]\n",
    "    #DL is display list\n",
    "    \n",
    "    x0 = int(act_lst[1][0])\n",
    "    y0 = int(act_lst[1][1])\n",
    "    xi = int(act_lst[2][0])\n",
    "    yi = int(act_lst[2][1])\n",
    "    \n",
    "    if act_lst[0] == 0 or act_lst[0] == 1:\n",
    "        for i in range(x0, xi+1):\n",
    "            for k in range(y0, yi+1):\n",
    "                DL[i][k] = act_lst[0]\n",
    "    elif act_lst[0] == -1:\n",
    "        for i in range(x0, xi+1):\n",
    "            for k in range(y0, yi+1):\n",
    "                DL[i][k] = abs(DL[i][k]-1)\n",
    "    \n",
    "    else:\n",
    "        print(\"error\")\n",
    "    \n",
    "    return None"
   ]
  },
  {
   "cell_type": "code",
   "execution_count": 105,
   "metadata": {},
   "outputs": [],
   "source": [
    "#3. read the file line by line\n",
    "f = open(\"2015-Q6_tyler.txt\", 'r')\n",
    "instruction_lst = []\n",
    "lst = f.readlines()\n",
    "f.close()"
   ]
  },
  {
   "cell_type": "code",
   "execution_count": 106,
   "metadata": {},
   "outputs": [],
   "source": [
    "def judge_action(str):\n",
    "    if str == \"on\":\n",
    "        return 1\n",
    "    elif str == \"off\":\n",
    "        return 0\n",
    "    elif str == \"toggle\":\n",
    "        return -1"
   ]
  },
  {
   "cell_type": "code",
   "execution_count": 107,
   "metadata": {},
   "outputs": [],
   "source": [
    "for l in lst:\n",
    "    # n_a is next_act, spl is strat_point_lst, epl is end_point_list\n",
    "    n_a = judge_action(l.split()[-4])\n",
    "    spl = l.split()[-3].split(\",\")\n",
    "    epl = l.split()[-1].split(\",\")\n",
    "    instruction_lst.append([n_a, spl, epl])"
   ]
  },
  {
   "cell_type": "code",
   "execution_count": 108,
   "metadata": {},
   "outputs": [],
   "source": [
    "for l in instruction_lst:\n",
    "    light_action(l, display_lst)"
   ]
  },
  {
   "cell_type": "code",
   "execution_count": 109,
   "metadata": {},
   "outputs": [
    {
     "data": {
      "text/plain": [
       "400410"
      ]
     },
     "execution_count": 109,
     "metadata": {},
     "output_type": "execute_result"
    }
   ],
   "source": [
    "total = 0\n",
    "for l in display_lst:\n",
    "    total = total + sum(l)\n",
    "\n",
    "total"
   ]
  },
  {
   "cell_type": "code",
   "execution_count": null,
   "metadata": {},
   "outputs": [],
   "source": []
  }
 ],
 "metadata": {
  "kernelspec": {
   "display_name": "Python 3",
   "language": "python",
   "name": "python3"
  },
  "language_info": {
   "codemirror_mode": {
    "name": "ipython",
    "version": 3
   },
   "file_extension": ".py",
   "mimetype": "text/x-python",
   "name": "python",
   "nbconvert_exporter": "python",
   "pygments_lexer": "ipython3",
   "version": "3.7.6"
  }
 },
 "nbformat": 4,
 "nbformat_minor": 4
}
