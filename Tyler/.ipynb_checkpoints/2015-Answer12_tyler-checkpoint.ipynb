{
 "cells": [
  {
   "cell_type": "code",
   "execution_count": 47,
   "metadata": {},
   "outputs": [],
   "source": [
    "import re\n",
    "\n",
    "f = open('2015-Q12_tyler.json', 'r')\n",
    "str_j = f.readline().lower()\n",
    "f.close()"
   ]
  },
  {
   "cell_type": "code",
   "execution_count": 2,
   "metadata": {},
   "outputs": [],
   "source": [
    "n_pattern = r'[-][0-9]*'\n",
    "p_pattern = r'[0-9]{1,}'\n",
    "n_num_lst = re.findall(n_pattern, str_j)\n",
    "p_num_lst = re.findall(p_pattern, str_j)"
   ]
  },
  {
   "cell_type": "code",
   "execution_count": 164,
   "metadata": {},
   "outputs": [],
   "source": [
    "def sum_num_lst(lst):\n",
    "    num_lst = []\n",
    "    for num in lst:\n",
    "        num_lst.append(int(num))\n",
    "    return sum(num_lst)"
   ]
  },
  {
   "cell_type": "code",
   "execution_count": 4,
   "metadata": {},
   "outputs": [],
   "source": [
    "result = sum_num_lst(p_num_lst) + 2 * sum_num_lst(n_num_lst)"
   ]
  },
  {
   "cell_type": "code",
   "execution_count": 66,
   "metadata": {},
   "outputs": [
    {
     "data": {
      "text/plain": [
       "156366"
      ]
     },
     "execution_count": 66,
     "metadata": {},
     "output_type": "execute_result"
    }
   ],
   "source": [
    "result"
   ]
  },
  {
   "cell_type": "markdown",
   "metadata": {},
   "source": [
    "## Part 2"
   ]
  },
  {
   "cell_type": "code",
   "execution_count": 151,
   "metadata": {},
   "outputs": [],
   "source": [
    "import ast\n",
    "j = ast.literal_eval(str_j)"
   ]
  },
  {
   "cell_type": "code",
   "execution_count": 240,
   "metadata": {},
   "outputs": [],
   "source": [
    "def red_replace(json_file):\n",
    "    if isinstance(json_file, list):\n",
    "        for i, j in enumerate(json_file):\n",
    "            json_file[i] = red_replace(j)\n",
    "        return json_file\n",
    "    elif isinstance(json_file, dict):\n",
    "        if \"red\" in json_file.values():\n",
    "            json_file = 'A'\n",
    "            return json_file\n",
    "        else:\n",
    "            for n, m in enumerate(json_file):\n",
    "                json_file[m] = red_replace(json_file[m])\n",
    "            return json_file\n",
    "    else:\n",
    "        return json_file"
   ]
  },
  {
   "cell_type": "code",
   "execution_count": null,
   "metadata": {},
   "outputs": [],
   "source": [
    "red_replace(j)"
   ]
  },
  {
   "cell_type": "code",
   "execution_count": 244,
   "metadata": {},
   "outputs": [],
   "source": [
    "new_j_str = str(j)"
   ]
  },
  {
   "cell_type": "code",
   "execution_count": 245,
   "metadata": {},
   "outputs": [],
   "source": [
    "n_pattern = r'[-][0-9]*'\n",
    "p_pattern = r'[0-9]{1,}'\n",
    "n_num_lst2 = re.findall(n_pattern, new_j_str)\n",
    "p_num_lst2 = re.findall(p_pattern, new_j_str)\n",
    "\n",
    "result = sum_num_lst(p_num_lst2) + 2 * sum_num_lst(n_num_lst2)"
   ]
  },
  {
   "cell_type": "code",
   "execution_count": 246,
   "metadata": {},
   "outputs": [
    {
     "data": {
      "text/plain": [
       "96852"
      ]
     },
     "execution_count": 246,
     "metadata": {},
     "output_type": "execute_result"
    }
   ],
   "source": [
    "result"
   ]
  }
 ],
 "metadata": {
  "kernelspec": {
   "display_name": "Python 3",
   "language": "python",
   "name": "python3"
  },
  "language_info": {
   "codemirror_mode": {
    "name": "ipython",
    "version": 3
   },
   "file_extension": ".py",
   "mimetype": "text/x-python",
   "name": "python",
   "nbconvert_exporter": "python",
   "pygments_lexer": "ipython3",
   "version": "3.6.9"
  }
 },
 "nbformat": 4,
 "nbformat_minor": 2
}
