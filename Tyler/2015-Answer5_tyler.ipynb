{
 "nbformat": 4,
 "nbformat_minor": 2,
 "metadata": {
  "language_info": {
   "name": "python",
   "codemirror_mode": {
    "name": "ipython",
    "version": 3
   },
   "version": "3.7.4-final"
  },
  "orig_nbformat": 2,
  "file_extension": ".py",
  "mimetype": "text/x-python",
  "name": "python",
  "npconvert_exporter": "python",
  "pygments_lexer": "ipython3",
  "version": 3,
  "kernelspec": {
   "name": "python37464bitf3080472071f4f76905c6513ee78ceee",
   "display_name": "Python 3.7.4 64-bit"
  }
 },
 "cells": [
  {
   "cell_type": "markdown",
   "metadata": {},
   "source": [
    "## Part 1"
   ]
  },
  {
   "cell_type": "markdown",
   "metadata": {},
   "source": [
    "* def function for all requirement\n",
    "* read input txt to tuple or list\n",
    "* test use example\n",
    "* get the results from file \n",
    "-----"
   ]
  },
  {
   "cell_type": "code",
   "execution_count": 5,
   "metadata": {},
   "outputs": [],
   "source": [
    "def vowels_judge(str1):\n",
    "    i = 0\n",
    "    for char in str1:\n",
    "        if char in \"aeiou\":\n",
    "            i += 1\n",
    "    \n",
    "    if i > 2:\n",
    "        return True\n",
    "    else: \n",
    "        return False"
   ]
  },
  {
   "cell_type": "code",
   "execution_count": 9,
   "metadata": {},
   "outputs": [],
   "source": [
    "def repeat_char(str1):\n",
    "    char_pre = \"\"\n",
    "    for char in str1:\n",
    "        if char == char_pre:\n",
    "            return True\n",
    "        else:\n",
    "            char_pre = char\n",
    "    return False"
   ]
  },
  {
   "cell_type": "code",
   "execution_count": 38,
   "metadata": {},
   "outputs": [],
   "source": [
    "def exclude_naughty(str1):\n",
    "    naughty = (\"ab\", \"cd\", \"pq\", \"xy\")\n",
    "    for a in naughty:\n",
    "        if a in str1:\n",
    "            return False\n",
    "    return True"
   ]
  },
  {
   "cell_type": "code",
   "execution_count": 40,
   "metadata": {},
   "outputs": [
    {
     "name": "stdout",
     "output_type": "stream",
     "text": "False\n"
    }
   ],
   "source": [
    "test_str = \"haegwjzuvuyypxyu\"\n",
    "print(vowels_judge(test_str) and repeat_char(test_str) and exclude_naughty(test_str))"
   ]
  },
  {
   "cell_type": "code",
   "execution_count": 41,
   "metadata": {},
   "outputs": [
    {
     "name": "stdout",
     "output_type": "stream",
     "text": "236\n"
    }
   ],
   "source": [
    "f = open('2015-Q5_tyler.txt', \"r\")\n",
    "count = 0\n",
    "\n",
    "lst = f.readlines()\n",
    "for str1 in lst:\n",
    "    if vowels_judge(str1) and repeat_char(str1) and exclude_naughty(str1):\n",
    "        count += 1\n",
    "\n",
    "f.close()\n",
    "print(count)"
   ]
  },
  {
   "cell_type": "markdown",
   "metadata": {},
   "source": [
    "## Part 2\n",
    "\n",
    "-----"
   ]
  },
  {
   "cell_type": "code",
   "execution_count": 123,
   "metadata": {},
   "outputs": [],
   "source": [
    "#It contains a pair of any two letters that appears at least twice in the string without overlapping, like xyxy (xy) or aabcdefgaa (aa), but not like aaa (aa, but it overlaps).\n",
    "\n",
    "def rule1(str2):\n",
    "    for i in range(len(str2)-1):\n",
    "        if str2[i:(i+2)] in str2[(i+2):]:\n",
    "            return True\n",
    "    return False"
   ]
  },
  {
   "cell_type": "code",
   "execution_count": 125,
   "metadata": {},
   "outputs": [],
   "source": [
    "#It contains at least one letter which repeats with exactly one letter between them, like xyx, abcdefeghi (efe), or even aaa.\n",
    "def rule2(str2):\n",
    "    for i in range(len(str2)-2):\n",
    "        if str2[i] == str2[i+2]:\n",
    "            return True\n",
    "    return False"
   ]
  },
  {
   "cell_type": "code",
   "execution_count": 132,
   "metadata": {},
   "outputs": [
    {
     "name": "stdout",
     "output_type": "stream",
     "text": "51\n"
    }
   ],
   "source": [
    "f = open(\"2015-Q5-p2_tyler.txt\", 'r')\n",
    "count2 = 0\n",
    "lst2 = f.readlines()\n",
    "\n",
    "for line in lst2:\n",
    "    if rule1(line) and rule2(line):\n",
    "        count2 +=1\n",
    "\n",
    "f.close()\n",
    "print(count2)"
   ]
  }
 ]
}